{
 "metadata": {
  "language_info": {
   "codemirror_mode": {
    "name": "ipython",
    "version": 3
   },
   "file_extension": ".py",
   "mimetype": "text/x-python",
   "name": "python",
   "nbconvert_exporter": "python",
   "pygments_lexer": "ipython3",
   "version": "3.8.10"
  },
  "orig_nbformat": 4,
  "kernelspec": {
   "name": "python3",
   "display_name": "Python 3.8.10 64-bit ('project_env': venv)"
  },
  "interpreter": {
   "hash": "4cb381a1a4ec64a459e3e3e03f1b299637ce4fb6ac50ca49960a0b91981566ab"
  }
 },
 "nbformat": 4,
 "nbformat_minor": 2,
 "cells": [
  {
   "source": [
    "# **Bunch of SAP Assessment Questions - potential:** #"
   ],
   "cell_type": "markdown",
   "metadata": {}
  },
  {
   "source": [
    "## 1. Search Index or Insert Position ##\n",
    "\n",
    "Given a sorted array and a target value, return the index if the target is found. If not, return the index where it would be if it were inserted in order. You may assume no duplicates in the array."
   ],
   "cell_type": "markdown",
   "metadata": {}
  },
  {
   "cell_type": "code",
   "execution_count": 18,
   "metadata": {},
   "outputs": [],
   "source": [
    "def find_idx(sorted_arr, target):\n",
    "    length = len(sorted_arr)\n",
    "    left = 0\n",
    "    right = length-1\n",
    "    while (left <= right) and (right >= 0) and (left < length):\n",
    "\n",
    "        middle = (left+right)//2\n",
    "        if sorted_arr[middle] == target:\n",
    "\n",
    "            return middle\n",
    "\n",
    "        elif sorted_arr[middle] < target:\n",
    "            left = middle+1\n",
    "        else:\n",
    "            right = middle-1\n",
    "\n",
    "    return left"
   ]
  },
  {
   "cell_type": "code",
   "execution_count": 19,
   "metadata": {},
   "outputs": [
    {
     "output_type": "execute_result",
     "data": {
      "text/plain": [
       "4"
      ]
     },
     "metadata": {},
     "execution_count": 19
    }
   ],
   "source": [
    "sorted_array = [0,4,6,7,8,9,13,13,19]\n",
    "target = 8\n",
    "find_idx(sorted_array, target)"
   ]
  },
  {
   "source": [
    "## 2. Move Zeroes ##\n",
    "\n",
    "Given an array arr, write a function to move all 0's to the end of it while maintaining the relative order of the non-zero elements.\n",
    "\n",
    "\tExample:\n",
    "\n",
    "\tInput: [0,1,0,3,12]\n",
    "\tOutput: [1,3,12,0,0]\n"
   ],
   "cell_type": "markdown",
   "metadata": {}
  },
  {
   "cell_type": "code",
   "execution_count": 20,
   "metadata": {},
   "outputs": [],
   "source": [
    "def move_zeros(arr):\n",
    "    i = j = 0\n",
    "    while i < len(arr):\n",
    "        if arr[i] > 0:\n",
    "            arr[j] = arr[i]\n",
    "            j += 1\n",
    "        i += 1\n",
    "\n",
    "    while j < len(arr):\n",
    "        arr[j] = 0\n",
    "        j += 1\n",
    "\n",
    "    return arr"
   ]
  },
  {
   "cell_type": "code",
   "execution_count": 21,
   "metadata": {},
   "outputs": [
    {
     "output_type": "execute_result",
     "data": {
      "text/plain": [
       "[2, 1, 3, 12, 4, 6, 0, 0, 0]"
      ]
     },
     "metadata": {},
     "execution_count": 21
    }
   ],
   "source": [
    "array = [2, 0, 1, 3, 0, 12, 4, 0, 6]\n",
    "move_zeros(array)"
   ]
  },
  {
   "source": [
    "## 3. Maximum Depth of N-ary Tree ##\n",
    "\n",
    "Given a n-arry tree, find its maximum depth. The maximum depth is the number of nodes along the longest path from the root node down to the farthest leaf node."
   ],
   "cell_type": "markdown",
   "metadata": {}
  },
  {
   "cell_type": "code",
   "execution_count": 22,
   "metadata": {},
   "outputs": [],
   "source": [
    "def maxDepth(root):\n",
    "    if not root:\n",
    "        return 0\n",
    "    max_depth = [1]\n",
    "    dfs(root, 1, max_depth)\n",
    "    return max_depth[0]\n",
    "\n",
    "\n",
    "def dfs(root, depth, max_depth):\n",
    "    if max_depth[0] < depth:\n",
    "        max_depth[0] = depth\n",
    "\n",
    "    if root:\n",
    "        for child in root.children:\n",
    "            dfs(child, depth + 1, max_depth)"
   ]
  },
  {
   "source": [
    "## 4. Robbing a house ##\n",
    "\n",
    "You are a professional robber planning to rob houses along a street. Each house has a certain amount of money stashed, the only constraint stopping you from robbing each of them is that adjacent houses have security systems connected and it will automatically contact the police if two adjacent houses were broken into on the same night.\n",
    "\n",
    "Given an integer array nums representing the amount of money of each house, return the maximum amount of money you can rob tonight without alerting the police."
   ],
   "cell_type": "markdown",
   "metadata": {}
  },
  {
   "source": [
    ">Input: nums = [1,2,3,1]\n",
    "\n",
    ">Output: 4\n",
    "\n",
    ">Explanation: Rob house 1 (money = 1) and then rob house 3 (money = 3).\n",
    "\n",
    ">Total amount you can rob = 1 + 3 = 4."
   ],
   "cell_type": "markdown",
   "metadata": {}
  },
  {
   "cell_type": "code",
   "execution_count": 23,
   "metadata": {},
   "outputs": [],
   "source": [
    "# MY SOLUTION - WORKS, BUT ONLY CONDITIONALLY\n",
    "\n",
    "\n",
    "def rob(nums:list):\n",
    "    if len(nums) <= 2:\n",
    "        return max(nums)\n",
    "    # find the maximum of the list first, as well as its index\n",
    "    max_value = max(nums)\n",
    "    max_value_index = nums.index(max_value)\n",
    "\n",
    "    house_list = []\n",
    "    # Checking if index is odd or even, and then calling respective sub-lists\n",
    "    \n",
    "\n",
    "    total_money = max_value\n",
    "\n",
    "    if (max_value_index % 2 != 0):\n",
    "        for i in range(nums):\n",
    "            while (2*i + 1) <= len(nums):\n",
    "                house_list[i] = nums[(2*i + 1)]\n",
    "                # Now that the house sub-list has been created, we check for the two highest values\n",
    "                # Sort the list in question\n",
    "                house_list.sort()\n",
    "                total_money += house_list[-2]\n",
    "\n",
    "    elif (max_value % 2 == 0):\n",
    "        for i in range(nums):\n",
    "            while (2*i) <= len(nums):\n",
    "                house_list[i] = nums[(2*i)] \n",
    "                # Now that the house sub-list has been created, we check for the two highest values\n",
    "                # Sort the list in question\n",
    "                house_list.sort()\n",
    "                total_money += house_list[-2]\n",
    "    \n",
    "    return total_money\n"
   ]
  },
  {
   "cell_type": "code",
   "execution_count": 29,
   "metadata": {},
   "outputs": [],
   "source": [
    "def rob(nums: list) -> int:\n",
    "    if len(nums) <= 2:  # uses a more dynamic programming approach\n",
    "        return max(nums)\n",
    "    houses = [0 for i in range(len(nums))]  # sets up a new array\n",
    "    for i in range(len(nums)):  # fills in the values of the new array\n",
    "        if i == 0:\n",
    "            houses[i] = nums[0]\n",
    "        else:\n",
    "            houses[i] = max(houses[i - 1], houses[i - 2] + nums[i])\n",
    "    print(houses)\n",
    "    return houses[-1]"
   ]
  },
  {
   "cell_type": "code",
   "execution_count": 27,
   "metadata": {},
   "outputs": [],
   "source": [
    "#nums = [1, 2, 3, 1]\n",
    "nums = [12, 3, 4, 6, 0]"
   ]
  },
  {
   "cell_type": "code",
   "execution_count": 30,
   "metadata": {},
   "outputs": [
    {
     "output_type": "stream",
     "name": "stdout",
     "text": [
      "[12, 12, 16, 18, 18]\n"
     ]
    },
    {
     "output_type": "execute_result",
     "data": {
      "text/plain": [
       "18"
      ]
     },
     "metadata": {},
     "execution_count": 30
    }
   ],
   "source": [
    "rob(nums)"
   ]
  },
  {
   "cell_type": "code",
   "execution_count": null,
   "metadata": {},
   "outputs": [],
   "source": []
  }
 ]
}