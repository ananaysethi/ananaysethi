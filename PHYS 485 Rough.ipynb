{
 "cells": [
  {
   "cell_type": "code",
   "execution_count": 1,
   "id": "bf7e1158",
   "metadata": {},
   "outputs": [],
   "source": [
    "import sympy as sy"
   ]
  },
  {
   "cell_type": "code",
   "execution_count": 2,
   "id": "ddea55c2",
   "metadata": {},
   "outputs": [],
   "source": [
    "x, L = sy.symbols('x, L')"
   ]
  },
  {
   "cell_type": "code",
   "execution_count": 3,
   "id": "b371c30f",
   "metadata": {},
   "outputs": [
    {
     "data": {
      "text/latex": [
       "$\\displaystyle \\frac{2 \\left(\\frac{L^{3}}{4 \\pi^{2}} + \\frac{L^{3}}{24}\\right)}{L}$"
      ],
      "text/plain": [
       "2*(L**3/(4*pi**2) + L**3/24)/L"
      ]
     },
     "execution_count": 3,
     "metadata": {},
     "output_type": "execute_result"
    }
   ],
   "source": [
    "expr = (2/L) * sy.integrate(x**2 * (sy.sin(sy.pi * x / L))**2, (x, -L/2, L/2) )\n",
    "expr"
   ]
  },
  {
   "cell_type": "code",
   "execution_count": 4,
   "id": "5ccf127f",
   "metadata": {},
   "outputs": [
    {
     "data": {
      "text/latex": [
       "$\\displaystyle 0$"
      ],
      "text/plain": [
       "0"
      ]
     },
     "execution_count": 4,
     "metadata": {},
     "output_type": "execute_result"
    }
   ],
   "source": [
    "expr2 = (2/L) * sy.integrate(x * (sy.sin(sy.pi * x / L))**2, (x, -L/2, L/2) )\n",
    "expr2"
   ]
  },
  {
   "cell_type": "code",
   "execution_count": 5,
   "id": "40905df4",
   "metadata": {},
   "outputs": [],
   "source": [
    "t, w, delta, k, B = sy.symbols(\"t, w, delta, k, B\")"
   ]
  },
  {
   "cell_type": "code",
   "execution_count": 6,
   "id": "49df2fd8",
   "metadata": {},
   "outputs": [
    {
     "data": {
      "text/latex": [
       "$\\displaystyle i B k e^{i \\left(\\delta + k x - t w\\right)}$"
      ],
      "text/plain": [
       "I*B*k*exp(I*(delta + k*x - t*w))"
      ]
     },
     "execution_count": 6,
     "metadata": {},
     "output_type": "execute_result"
    }
   ],
   "source": [
    "psi = B*sy.exp(sy.I*(k*x - w*t + delta))\n",
    "sy.diff(psi, x)"
   ]
  },
  {
   "cell_type": "code",
   "execution_count": 7,
   "id": "426a36c3",
   "metadata": {},
   "outputs": [
    {
     "data": {
      "text/latex": [
       "$\\displaystyle - B k^{2} e^{i \\left(\\delta + k x - t w\\right)}$"
      ],
      "text/plain": [
       "-B*k**2*exp(I*(delta + k*x - t*w))"
      ]
     },
     "execution_count": 7,
     "metadata": {},
     "output_type": "execute_result"
    }
   ],
   "source": [
    "sy.diff(psi, x, 2)"
   ]
  },
  {
   "cell_type": "code",
   "execution_count": 8,
   "id": "49634d35",
   "metadata": {},
   "outputs": [
    {
     "data": {
      "text/latex": [
       "$\\displaystyle - i B w e^{i \\left(\\delta + k x - t w\\right)}$"
      ],
      "text/plain": [
       "-I*B*w*exp(I*(delta + k*x - t*w))"
      ]
     },
     "execution_count": 8,
     "metadata": {},
     "output_type": "execute_result"
    }
   ],
   "source": [
    "sy.diff(psi, t)"
   ]
  },
  {
   "cell_type": "code",
   "execution_count": null,
   "id": "e3a6a88c",
   "metadata": {},
   "outputs": [],
   "source": []
  }
 ],
 "metadata": {
  "kernelspec": {
   "display_name": "Python 3",
   "language": "python",
   "name": "python3"
  },
  "language_info": {
   "codemirror_mode": {
    "name": "ipython",
    "version": 3
   },
   "file_extension": ".py",
   "mimetype": "text/x-python",
   "name": "python",
   "nbconvert_exporter": "python",
   "pygments_lexer": "ipython3",
   "version": "3.8.8"
  }
 },
 "nbformat": 4,
 "nbformat_minor": 5
}
