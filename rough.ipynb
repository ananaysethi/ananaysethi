{
 "cells": [
  {
   "cell_type": "code",
   "execution_count": null,
   "metadata": {},
   "outputs": [],
   "source": [
    "y1(x, t) = A1*cos(kx - wt)\n",
    "y2(x, t) = A2*cos(kx-wt)\n",
    "\n",
    "ytot(x, t) = y1 + y2 = (A1 + A2) cos(kx-wt)\n",
    "\n",
    "Differentiate ytot wrt x, and t twice\n",
    "\n",
    "d2(wrt x) = -k^2 (A1 + A2) cos(kx-wt)\n",
    "d2(wrt t) = -w^2 (A1 + A2) cos(kx-wt)\n",
    "\n",
    "v = w/k\n",
    "\n",
    "k = w/v\n",
    "\n",
    "d2(wrt x) = k^2 (A1 + A2) cos(kx-wt) == 1/v^2 (w^2 (A1 + A2) cos(kx-wt)) == 1/v^2 d2(wrt t)"
   ]
  },
  {
   "cell_type": "code",
   "execution_count": 2,
   "metadata": {},
   "outputs": [],
   "source": [
    "import sympy as sy\n",
    "import numpy as np\n",
    "\n"
   ]
  },
  {
   "cell_type": "code",
   "execution_count": 3,
   "metadata": {},
   "outputs": [
    {
     "data": {
      "text/latex": [
       "$\\displaystyle - m \\left(\\frac{\\sqrt{\\frac{1}{c g m}} \\log{\\left(- g m \\sqrt{\\frac{1}{c g m}} + v \\right)}}{2} - \\frac{\\sqrt{\\frac{1}{c g m}} \\log{\\left(g m \\sqrt{\\frac{1}{c g m}} + v \\right)}}{2}\\right)$"
      ],
      "text/plain": [
       "-m*(sqrt(1/(c*g*m))*log(-g*m*sqrt(1/(c*g*m)) + v)/2 - sqrt(1/(c*g*m))*log(g*m*sqrt(1/(c*g*m)) + v)/2)"
      ]
     },
     "execution_count": 3,
     "metadata": {},
     "output_type": "execute_result"
    }
   ],
   "source": [
    "m, g, c, v = sy.symbols('m, g, c, v')\n",
    "sy.solve(sy.integrate(m/(m*g - c*v**2), v))"
   ]
  }
 ],
 "metadata": {
  "kernelspec": {
   "display_name": "Python 3",
   "language": "python",
   "name": "python3"
  },
  "language_info": {
   "codemirror_mode": {
    "name": "ipython",
    "version": 3
   },
   "file_extension": ".py",
   "mimetype": "text/x-python",
   "name": "python",
   "nbconvert_exporter": "python",
   "pygments_lexer": "ipython3",
   "version": "3.8.3"
  }
 },
 "nbformat": 4,
 "nbformat_minor": 2
}
