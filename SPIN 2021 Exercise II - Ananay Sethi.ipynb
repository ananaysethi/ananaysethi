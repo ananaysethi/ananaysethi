{
 "cells": [
  {
   "cell_type": "code",
   "execution_count": 1,
   "metadata": {},
   "outputs": [],
   "source": [
    "# SPIN 2021 Exercise II for Roland Haas' project - Improving speed of characterizing numerical relativity waveforms\n",
    "# Solution by Ananay Sethi\n",
    "# UID: ananays2"
   ]
  },
  {
   "cell_type": "code",
   "execution_count": 2,
   "metadata": {},
   "outputs": [],
   "source": [
    "import scipy.optimize\n",
    "import numpy\n",
    "\n",
    "omega0 = 1.2\n",
    "phi0 = -1.3"
   ]
  },
  {
   "cell_type": "code",
   "execution_count": 3,
   "metadata": {},
   "outputs": [
    {
     "name": "stdout",
     "output_type": "stream",
     "text": [
      "success: True pars: [ 1.2 -1.3]\n"
     ]
    }
   ],
   "source": [
    "def fun(pars, times):\n",
    "    # get trial parameters\n",
    "    omega, phi = pars\n",
    "    return numpy.sin(omega*times - phi) - numpy.sin(omega0*times - phi0)\n",
    "\n",
    "times = numpy.linspace(0, 2., 100)\n",
    "\n",
    "omega_start = 1.\n",
    "phi0_start = 0.\n",
    "\n",
    "x0 = numpy.array([omega_start, phi0_start])\n",
    "\n",
    "res = scipy.optimize.least_squares(fun, x0, args = (times, ))# use scipy.optimize.least_squares to solve find parameters\n",
    "\n",
    "# NOTE BY ANANAY - the line above was edited from the Example given in the documentation page - \n",
    "# \"solving a curve fitting problem using robust loss function to take care of outliers in the data\".\n",
    "# specific line -- \"res_lsq = least_squares(fun, x0, args=(t_train, y_train))\".\n",
    "\n",
    "print(\"success:\", res.success, \"pars:\", res.x)"
   ]
  }
 ],
 "metadata": {
  "kernelspec": {
   "display_name": "Python 3",
   "language": "python",
   "name": "python3"
  },
  "language_info": {
   "codemirror_mode": {
    "name": "ipython",
    "version": 3
   },
   "file_extension": ".py",
   "mimetype": "text/x-python",
   "name": "python",
   "nbconvert_exporter": "python",
   "pygments_lexer": "ipython3",
   "version": "3.8.3"
  }
 },
 "nbformat": 4,
 "nbformat_minor": 4
}
