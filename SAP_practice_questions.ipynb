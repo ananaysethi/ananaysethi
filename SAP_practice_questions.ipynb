{
 "cells": [
  {
   "cell_type": "markdown",
   "metadata": {},
   "source": [
    "# SAP Practice Questions #"
   ]
  },
  {
   "cell_type": "markdown",
   "metadata": {},
   "source": [
    "**1. First to Six**\n",
    "\n",
    "Amy and Brad take turns in rolling a fair six-sided die. Whoever rolls a \"6\" first wins the game. Amy starts by rolling first.\n",
    "\n",
    "What's the probability that Amy wins?"
   ]
  },
  {
   "cell_type": "code",
   "execution_count": 1,
   "metadata": {},
   "outputs": [
    {
     "data": {
      "text/plain": [
       "0.5454545454545455"
      ]
     },
     "execution_count": 1,
     "metadata": {},
     "output_type": "execute_result"
    }
   ],
   "source": [
    "# Follows an infinite geometric series \n",
    "\n",
    "# Calculate probability when Amy wins\n",
    "\n",
    "# Turn 1: P(Amy) = 1/6, P(Amy)' = 5/6, P(Brad) = P(Amy)' * 1/6 = 5/6 * 1/6\n",
    "# Turn 2: P(Amy) = P(Brad)' * 1/6 = 5/6 * 5/6 * 1/6, P(Brad) = 1 - (5/6 * 5/6 * 1/6)\n",
    "# Turn 3: P(Amy) = P(Brad)' * P(Brad)' * 1/6 = (5/6)**2 * (5/6)**2 * 1/6\n",
    "\n",
    "a_0 = 1/6\n",
    "r = (5/6)**2\n",
    "\n",
    "p_amy = a_0 / (1 - r)\n",
    "p_amy"
   ]
  },
  {
   "cell_type": "markdown",
   "metadata": {},
   "source": [
    "**2. 500 Cards** \n",
    "\n",
    "Imagine a deck of 500 cards numbered from 1 to 500. If all the cards are shuffled randomly and you are asked to pick three cards, one at a time, what's the probability of each subsequent card being larger than the previous drawn card?"
   ]
  },
  {
   "cell_type": "code",
   "execution_count": 2,
   "metadata": {},
   "outputs": [],
   "source": [
    "# Sample size does not matter in this question\n",
    "\n",
    "# Card sample {1,2,3}\n",
    "\n",
    "# Possible configurations : (1, 2, 3); (2, 1, 3); (2, 3, 1); (1, 3, 2); (3, 1, 2); (3, 2, 1)\n",
    "\n",
    "# Winning configuration: (1, 2, 3) = 1/6\n",
    "\n",
    "# For any 3 numbers from 1 to 500, the probability of the sample size remains the same"
   ]
  },
  {
   "cell_type": "markdown",
   "metadata": {},
   "source": [
    "**3. Counting File Lines**\n",
    "\n",
    "Let's say you're given a huge 100 GB log file. You want to be able to count how many lines are in the file. \n",
    "\n",
    "Write code in Python to count the total number of lines in the file."
   ]
  },
  {
   "cell_type": "code",
   "execution_count": 3,
   "metadata": {},
   "outputs": [],
   "source": [
    "def line_count(log_file):\n",
    "    with open(log_file) as f:\n",
    "        for i, l in enumerate(f):\n",
    "            pass\n",
    "        return i + 1"
   ]
  },
  {
   "cell_type": "code",
   "execution_count": 4,
   "metadata": {},
   "outputs": [],
   "source": [
    "def line_count_2(log_file):\n",
    "    num_lines = sum(1 for line in open(log_file))\n",
    "    \n",
    "    return num_lines"
   ]
  },
  {
   "cell_type": "markdown",
   "metadata": {},
   "source": [
    "**4. Find the Missing Number**\n",
    "\n",
    "You have an array of integers of length n spanning 0 to n with one missing. Write a function that returns the missing number in the array.\n",
    "\n",
    "Example:\n",
    "\n",
    ">nums = [0,1,2,4,5] \n",
    "\n",
    ">missingNumber(nums) -> 3\n",
    "\n",
    "Complexity of O(N) required."
   ]
  },
  {
   "cell_type": "code",
   "execution_count": 5,
   "metadata": {},
   "outputs": [],
   "source": [
    "def missingNumber(num_list):\n",
    "    for i in range(len(num_list)):\n",
    "        if num_list[i] != i:\n",
    "            return i"
   ]
  },
  {
   "cell_type": "code",
   "execution_count": 6,
   "metadata": {},
   "outputs": [
    {
     "name": "stdout",
     "output_type": "stream",
     "text": [
      "3\n"
     ]
    }
   ],
   "source": [
    "nums = [0, 1, 2, 4, 5]\n",
    "\n",
    "print(missingNumber(nums))"
   ]
  },
  {
   "cell_type": "code",
   "execution_count": 7,
   "metadata": {},
   "outputs": [
    {
     "name": "stdout",
     "output_type": "stream",
     "text": [
      "1\n"
     ]
    }
   ],
   "source": [
    "num_list2 = [0, 2, 3, 4, 5, 6, 7]\n",
    "\n",
    "print(missingNumber(num_list2))"
   ]
  },
  {
   "cell_type": "markdown",
   "metadata": {},
   "source": [
    "**5. Generate Normal Distribution**\n",
    "\n",
    "Write a function to generate N samples from a normal distribution and plot the histogram."
   ]
  },
  {
   "cell_type": "code",
   "execution_count": 9,
   "metadata": {},
   "outputs": [],
   "source": [
    "import matplotlib.pyplot as plt\n",
    "import numpy as np\n",
    "\n",
    "def z_dist(n_sample):\n",
    "    mean = 0\n",
    "    std = 1\n",
    "    \n",
    "    dist = np.random.normal(mean, std, n_sample)\n",
    "\n",
    "    plt.hist(dist)\n",
    "    plt.show()"
   ]
  },
  {
   "cell_type": "code",
   "execution_count": 10,
   "metadata": {},
   "outputs": [
    {
     "data": {
      "image/png": "[encoded data removed]",
      "text/plain": [
       "<Figure size 432x288 with 1 Axes>"
      ]
     },
     "metadata": {
      "needs_background": "light"
     },
     "output_type": "display_data"
    }
   ],
   "source": [
    "n = 500\n",
    "z_dist(n)"
   ]
  },
  {
   "cell_type": "markdown",
   "metadata": {},
   "source": [
    "**6. Merge Sorted Lists**\n",
    "\n",
    "Given two sorted lists, write a function to merge them into one sorted list.\n",
    "\n",
    "What's the time complexity?"
   ]
  },
  {
   "cell_type": "code",
   "execution_count": 14,
   "metadata": {},
   "outputs": [],
   "source": [
    "def merge_list(list1, list2) :\n",
    "    for i in range(len(list2) - 1, 1, -1):\n",
    "        last = list1[len(list1) - 1]\n",
    "        j = len(list1) - 2\n",
    "\n",
    "        while(j >= 0 and list1[j] > list2[i]):\n",
    "            list1[j+1] = list1[j]\n",
    "            j-=1\n",
    "        \n",
    "        if (j != len(list1) - 2 or last > list1[len(list2) - 1]):\n",
    "            list1[j + 1] = list2[i]\n",
    "            list2[i] = last\n"
   ]
  },
  {
   "cell_type": "code",
   "execution_count": 15,
   "metadata": {},
   "outputs": [
    {
     "name": "stdout",
     "output_type": "stream",
     "text": [
      "None\n"
     ]
    }
   ],
   "source": [
    "l1 = [1, 2, 3, 4, 7, 9, 11]\n",
    "l2 = [5, 6, 8, 10, 12]\n",
    "\n",
    "print(merge_list(l1, l2))"
   ]
  }
 ],
 "metadata": {
  "interpreter": {
   "hash": "e534e48711db4d1e1c48977d0d14ff85b1f16d41bcc4fdfd88268a329b3c9d66"
  },
  "kernelspec": {
   "display_name": "Python 3",
   "language": "python",
   "name": "python3"
  },
  "language_info": {
   "codemirror_mode": {
    "name": "ipython",
    "version": 3
   },
   "file_extension": ".py",
   "mimetype": "text/x-python",
   "name": "python",
   "nbconvert_exporter": "python",
   "pygments_lexer": "ipython3",
   "version": "3.7.4"
  }
 },
 "nbformat": 4,
 "nbformat_minor": 4
}
